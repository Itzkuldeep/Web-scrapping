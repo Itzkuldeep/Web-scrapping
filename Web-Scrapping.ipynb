{
 "cells": [
  {
   "cell_type": "code",
   "execution_count": 1,
   "id": "401dbda1-ac2f-49e4-8755-d589db16c429",
   "metadata": {},
   "outputs": [
    {
     "name": "stdout",
     "output_type": "stream",
     "text": [
      "Requirement already satisfied: requests in c:\\users\\kulde\\anaconda3\\lib\\site-packages (2.31.0)\n",
      "Requirement already satisfied: charset-normalizer<4,>=2 in c:\\users\\kulde\\anaconda3\\lib\\site-packages (from requests) (2.0.4)\n",
      "Requirement already satisfied: idna<4,>=2.5 in c:\\users\\kulde\\anaconda3\\lib\\site-packages (from requests) (3.4)\n",
      "Requirement already satisfied: urllib3<3,>=1.21.1 in c:\\users\\kulde\\anaconda3\\lib\\site-packages (from requests) (1.26.18)\n",
      "Requirement already satisfied: certifi>=2017.4.17 in c:\\users\\kulde\\anaconda3\\lib\\site-packages (from requests) (2024.2.2)\n",
      "Note: you may need to restart the kernel to use updated packages.\n"
     ]
    }
   ],
   "source": [
    "pip install requests"
   ]
  },
  {
   "cell_type": "code",
   "execution_count": 4,
   "id": "c6f5bb6f-14ef-40b7-bec3-89b8eb50b426",
   "metadata": {},
   "outputs": [
    {
     "name": "stdout",
     "output_type": "stream",
     "text": [
      "<Response [200]>\n"
     ]
    }
   ],
   "source": [
    "import requests\n",
    "url = \"https://webscraper.io/test-sites/e-commerce/allinone/computers/tablets\"\n",
    "r = requests.get(url)\n",
    "# print(r)"
   ]
  },
  {
   "cell_type": "code",
   "execution_count": 5,
   "id": "1979db41-ff01-466b-bc7d-3ed9c5bd8ed8",
   "metadata": {},
   "outputs": [
    {
     "name": "stdout",
     "output_type": "stream",
     "text": [
      "Requirement already satisfied: beautifulsoup4 in c:\\users\\kulde\\anaconda3\\lib\\site-packages (4.12.2)\n",
      "Requirement already satisfied: soupsieve>1.2 in c:\\users\\kulde\\anaconda3\\lib\\site-packages (from beautifulsoup4) (2.5)\n",
      "Note: you may need to restart the kernel to use updated packages.\n"
     ]
    }
   ],
   "source": [
    "pip install beautifulsoup4"
   ]
  },
  {
   "cell_type": "code",
   "execution_count": 6,
   "id": "c9fbbc6f-c8e7-406d-8853-a565a0110884",
   "metadata": {},
   "outputs": [],
   "source": [
    "from bs4 import BeautifulSoup"
   ]
  },
  {
   "cell_type": "code",
   "execution_count": 9,
   "id": "55c33ebe-04a3-4bab-a3a6-ea6b7ce4e93d",
   "metadata": {
    "scrolled": true
   },
   "outputs": [],
   "source": [
    "soup = BeautifulSoup(r.text, 'lxml') #getting HTML data\n",
    "# print(soup)"
   ]
  },
  {
   "cell_type": "code",
   "execution_count": 20,
   "id": "479150ba-f9ce-4805-aca1-8e7fd2f73b34",
   "metadata": {},
   "outputs": [
    {
     "name": "stdout",
     "output_type": "stream",
     "text": [
      "21\n"
     ]
    }
   ],
   "source": [
    "boxes = soup.find_all(\"div\", class_ = \"col-md-4 col-xl-4 col-lg-4\")\n",
    "# print(len(boxes))"
   ]
  },
  {
   "cell_type": "code",
   "execution_count": 22,
   "id": "34f4aa4c-5b2e-4fdb-a1d1-738acda80435",
   "metadata": {},
   "outputs": [
    {
     "name": "stdout",
     "output_type": "stream",
     "text": [
      "21\n"
     ]
    }
   ],
   "source": [
    "names = soup.find_all('a', class_ = \"title\")\n",
    "print(len(names))"
   ]
  },
  {
   "cell_type": "code",
   "execution_count": 24,
   "id": "7d291640-3633-49fd-b8bd-adb94ed7f0dd",
   "metadata": {},
   "outputs": [
    {
     "name": "stdout",
     "output_type": "stream",
     "text": [
      "Lenovo IdeaTab\n",
      "IdeaTab A3500L\n",
      "Acer Iconia\n",
      "Galaxy Tab 3\n",
      "Iconia B1-730H...\n",
      "Memo Pad HD 7\n",
      "Asus MeMO Pad\n",
      "Amazon Kindle\n",
      "Galaxy Tab 3\n",
      "IdeaTab A8-50\n",
      "MeMO Pad 7\n",
      "IdeaTab A3500-...\n",
      "IdeaTab S5000\n",
      "Galaxy Tab 4\n",
      "Galaxy Tab\n",
      "MeMo PAD FHD 1...\n",
      "Galaxy Note\n",
      "Galaxy Note\n",
      "iPad Mini Reti...\n",
      "Galaxy Note 10...\n",
      "Apple iPad Air\n"
     ]
    }
   ],
   "source": [
    "for i in names:\n",
    "    print(i.text)"
   ]
  },
  {
   "cell_type": "code",
   "execution_count": null,
   "id": "8d0789d0-2e91-4552-8ec6-29960b25264f",
   "metadata": {},
   "outputs": [],
   "source": []
  }
 ],
 "metadata": {
  "kernelspec": {
   "display_name": "Python 3 (ipykernel)",
   "language": "python",
   "name": "python3"
  },
  "language_info": {
   "codemirror_mode": {
    "name": "ipython",
    "version": 3
   },
   "file_extension": ".py",
   "mimetype": "text/x-python",
   "name": "python",
   "nbconvert_exporter": "python",
   "pygments_lexer": "ipython3",
   "version": "3.11.7"
  }
 },
 "nbformat": 4,
 "nbformat_minor": 5
}
